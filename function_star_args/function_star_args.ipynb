{
 "cells": [
  {
   "cell_type": "markdown",
   "metadata": {},
   "source": [
    "## intro\n",
    "In python 3 it is possible to use advance unpacking. For example..."
   ]
  },
  {
   "cell_type": "code",
   "execution_count": 1,
   "metadata": {
    "collapsed": false
   },
   "outputs": [
    {
     "name": "stdout",
     "output_type": "stream",
     "text": [
      "[1, 2, 3, 4, 5, 6, 7, 8]\n"
     ]
    }
   ],
   "source": [
    "first, *body, tail = range(10)\n",
    "print(body)"
   ]
  },
  {
   "cell_type": "code",
   "execution_count": 2,
   "metadata": {
    "collapsed": false
   },
   "outputs": [
    {
     "name": "stdout",
     "output_type": "stream",
     "text": [
      "0\n"
     ]
    }
   ],
   "source": [
    "print(first)"
   ]
  },
  {
   "cell_type": "code",
   "execution_count": 3,
   "metadata": {
    "collapsed": false
   },
   "outputs": [
    {
     "name": "stdout",
     "output_type": "stream",
     "text": [
      "9\n"
     ]
    }
   ],
   "source": [
    "print(tail)"
   ]
  },
  {
   "cell_type": "markdown",
   "metadata": {},
   "source": [
    "The same sintax is possible to use in function, from the version of **python 3.5**."
   ]
  },
  {
   "cell_type": "markdown",
   "metadata": {},
   "source": [
    "## star function argument\n",
    "\n",
    "The function that I had to wrote should receive at least an instance of a particular type, and have to perform the computation independently of the number of instances passed. \n",
    "The first version I wrote is\n",
    "\n",
    "`def open_investment(main_customer, line_weights, risk_score, other_customer=[])`\n",
    "\n",
    "But someone asked me if in python there is a strange feature of Java function that permits to pass at least one objects. \n",
    "I had read the night before [10 awesome features of Python that you can't use because you refuse to upgrade to Python 3](http://www.asmeurer.com/python3-presentation/slides.html?imm_mid=0f2edb&cmp=em-prog-na-na-newsltr_20170617#2) where, in feature 2, describes the *keyword only match*. In other words I could write\n",
    "\n",
    "`def open_investment(main_customer, *other_customer line_weights, risk_score)`"
   ]
  },
  {
   "cell_type": "markdown",
   "metadata": {},
   "source": [
    "## how it works\n",
    "\n",
    "The `*args` become a tuple args in the body function. For example"
   ]
  },
  {
   "cell_type": "code",
   "execution_count": 4,
   "metadata": {
    "collapsed": false
   },
   "outputs": [
    {
     "name": "stdout",
     "output_type": "stream",
     "text": [
      "13 (34, 5, 6, 19) Donald typing\n"
     ]
    }
   ],
   "source": [
    "def func(a, *example_args, b, c):\n",
    "    print(a, example_args, b, c)\n",
    "    \n",
    "func(13, 34, 5, 6, 19, b='Donald', c='typing')"
   ]
  },
  {
   "cell_type": "markdown",
   "metadata": {},
   "source": [
    "Note: A vice is  that you have always use the remained argument with keywords, to determine when the unpacked argument ends."
   ]
  },
  {
   "cell_type": "code",
   "execution_count": 5,
   "metadata": {
    "collapsed": false
   },
   "outputs": [
    {
     "ename": "TypeError",
     "evalue": "func() missing 2 required keyword-only arguments: 'b' and 'c'",
     "output_type": "error",
     "traceback": [
      "\u001b[0;31m---------------------------------------------------------------------------\u001b[0m",
      "\u001b[0;31mTypeError\u001b[0m                                 Traceback (most recent call last)",
      "\u001b[0;32m<ipython-input-5-25ff481aa0a6>\u001b[0m in \u001b[0;36m<module>\u001b[0;34m()\u001b[0m\n\u001b[0;32m----> 1\u001b[0;31m \u001b[0mfunc\u001b[0m\u001b[0;34m(\u001b[0m\u001b[0;36m13\u001b[0m\u001b[0;34m,\u001b[0m \u001b[0;36m34\u001b[0m\u001b[0;34m,\u001b[0m \u001b[0;36m5\u001b[0m\u001b[0;34m,\u001b[0m \u001b[0;36m6\u001b[0m\u001b[0;34m,\u001b[0m \u001b[0;36m19\u001b[0m\u001b[0;34m,\u001b[0m \u001b[0;34m'Donald'\u001b[0m\u001b[0;34m,\u001b[0m \u001b[0;34m'typing'\u001b[0m\u001b[0;34m)\u001b[0m\u001b[0;34m\u001b[0m\u001b[0m\n\u001b[0m",
      "\u001b[0;31mTypeError\u001b[0m: func() missing 2 required keyword-only arguments: 'b' and 'c'"
     ]
    }
   ],
   "source": [
    "func(13, 34, 5, 6, 19, 'Donald', 'typing')"
   ]
  },
  {
   "cell_type": "markdown",
   "metadata": {},
   "source": [
    "Note that you need to unpack an iterable passed to"
   ]
  },
  {
   "cell_type": "code",
   "execution_count": 6,
   "metadata": {
    "collapsed": false
   },
   "outputs": [
    {
     "name": "stdout",
     "output_type": "stream",
     "text": [
      "13 ([34, 5, 6],) Donald typing\n"
     ]
    }
   ],
   "source": [
    "func(13, [34, 5, 6], b='Donald', c='typing')"
   ]
  },
  {
   "cell_type": "code",
   "execution_count": 7,
   "metadata": {
    "collapsed": false
   },
   "outputs": [
    {
     "name": "stdout",
     "output_type": "stream",
     "text": [
      "13 (range(0, 4),) Donald typing\n"
     ]
    }
   ],
   "source": [
    "func(13, range(4), b='Donald', c='typing')"
   ]
  },
  {
   "cell_type": "code",
   "execution_count": 8,
   "metadata": {
    "collapsed": false
   },
   "outputs": [
    {
     "name": "stdout",
     "output_type": "stream",
     "text": [
      "13 (0, 1, 2, 3) Donald typing\n"
     ]
    }
   ],
   "source": [
    "func(13, *range(4), b='Donald', c='typing')"
   ]
  },
  {
   "cell_type": "markdown",
   "metadata": {},
   "source": [
    "## too idiomatic?\n",
    "Someone could think that this solution is too ideomatic if a Big Bad Wolf is the code reviewer... and it is known than Big Bad Wolves are not empatic and they have no time to study every new feature introduced in the language with the last releases... The solution that this one prefers is: \n",
    "\n",
    "`def open_investment(line_weights, risk_score, main_customer, second_customer=None, third_customer=None)`\n",
    "\n",
    "\n",
    "I asked to PyMi what they think about."
   ]
  },
  {
   "cell_type": "markdown",
   "metadata": {
    "collapsed": true
   },
   "source": [
    "## For PyMi\n",
    "\n",
    "For `entrpiae` the better way is the most pythonic one, with `*args`, in the midle of the function.\n",
    "\n",
    "For `greenkey` a good compromise could be move at last of argument list the `*args`, in this way there are not keyword only arguments.\n",
    "\n",
    "`def open_investment(line_weights, risk_score, main_customer, *other_customer)`\n",
    "\n",
    "`cstrap` suggest to find the official document to simplifing the adoption of the new syntax, and he found the [pep](https://www.python.org/dev/peps/pep-0362/).\n",
    "\n",
    "`cstrap` also noticed that star arguments work fine also in python 3.4, but required default values.\n",
    "\n",
    "`def open_investment(main_customer, *other_customer line_weights=None, risk_score=1)`"
   ]
  },
  {
   "cell_type": "code",
   "execution_count": null,
   "metadata": {
    "collapsed": true
   },
   "outputs": [],
   "source": []
  }
 ],
 "metadata": {
  "kernelspec": {
   "display_name": "Python 3",
   "language": "python",
   "name": "python3"
  },
  "language_info": {
   "codemirror_mode": {
    "name": "ipython",
    "version": 3
   },
   "file_extension": ".py",
   "mimetype": "text/x-python",
   "name": "python",
   "nbconvert_exporter": "python",
   "pygments_lexer": "ipython3",
   "version": "3.5.2"
  }
 },
 "nbformat": 4,
 "nbformat_minor": 0
}
