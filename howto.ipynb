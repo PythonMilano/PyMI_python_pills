{
 "cells": [
  {
   "cell_type": "markdown",
   "metadata": {},
   "source": [
    "Sooner or later you'll find yourself wanting to speed up your code.  \n",
    "It is common knowledge that you shouldn't do it too early, because \"premature optimization is the root of all evil (or at least most of it) in programming\" [cit. Knuth and Hoare].  \n",
    "The first thing to do is finding the bottlenecks in your code and to do that, unless you have a Python interpreter installed in your brain :) , you'll need some profiling tool.  \n",
    "You have many choices."
   ]
  },
  {
   "cell_type": "markdown",
   "metadata": {},
   "source": [
    "## cProfile\n",
    "The standard library kindly provides us with the 'cProfile' package, that can be used like that:\n",
    "```  \n",
    "python -m cProfile [-o output_file] [-s sort_order] myscript.py\n",
    "```"
   ]
  },
  {
   "cell_type": "markdown",
   "metadata": {},
   "source": [
    "It measures the CPU time per each **function call**. It does not support threads. If you want a UI to help you understand the profiling trace, you can use \"RunSnakeRun\" or the web-based 'snakeviz':\n",
    "Unfortunately:  \n",
    "- RunSnakeRun does not work on Python 3\n",
    "- snakeviz sometimes cannot visualize complex profiling traces."
   ]
  },
  {
   "cell_type": "markdown",
   "metadata": {},
   "source": [
    "## line_profiler\n",
    "It's a third party package that measures the time spent on each **line of your code**. It makes deterministic measurements (on the functions decorated with '@profile') and so it introduces a noticeable overhead, that sometimes can bias your results.  \n",
    "There is no graphical interface, you get a textual output that contains the measures in table form as a result."
   ]
  },
  {
   "cell_type": "markdown",
   "metadata": {},
   "source": [
    "## profiling\n",
    "The package 'profiling' does statistical and deterministic profiling, per **function call**, supports threads, has \"continuous mode\" to profile long-life processes such as web applications. **Only for Linux.**"
   ]
  },
  {
   "cell_type": "markdown",
   "metadata": {},
   "source": [
    "## Intel VTune Amplifier\n",
    "Proprietary Intel solution that appears to have everything a profiler should have: statistical analysis, clear interactive UI, threads, time per line, little overhead, no distortion, ecc. Unfortunately it's everything but free."
   ]
  },
  {
   "cell_type": "markdown",
   "metadata": {},
   "source": [
    "## PyCharm Profiler\n",
    "Deterministic profiling based on cProfile, with a graphical interface, providing measurements **per function**. Unfortunately you won't be able to use it with the free Community Edition license, it only comes with the paid professional license of PyCharm."
   ]
  },
  {
   "cell_type": "markdown",
   "metadata": {},
   "source": [
    "## New Relic\n",
    "If you are really serious about performance measurement, you could probably check out [New Relic for Python](https://docs.newrelic.com/docs/agents/python-agent/getting-started/introduction-new-relic-python).  \n",
    "It looks overkill for the typical everyday task, though."
   ]
  },
  {
   "cell_type": "code",
   "execution_count": null,
   "metadata": {
    "collapsed": true
   },
   "outputs": [],
   "source": []
  }
 ],
 "metadata": {
  "kernelspec": {
   "display_name": "Python 3",
   "language": "python",
   "name": "python3"
  },
  "language_info": {
   "codemirror_mode": {
    "name": "ipython",
    "version": 3
   },
   "file_extension": ".py",
   "mimetype": "text/x-python",
   "name": "python",
   "nbconvert_exporter": "python",
   "pygments_lexer": "ipython3",
   "version": "3.6.1"
  }
 },
 "nbformat": 4,
 "nbformat_minor": 2
}
